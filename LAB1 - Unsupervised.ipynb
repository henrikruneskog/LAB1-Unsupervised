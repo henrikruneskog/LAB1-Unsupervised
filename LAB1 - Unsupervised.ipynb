{
 "cells": [
  {
   "cell_type": "markdown",
   "id": "bba09463",
   "metadata": {},
   "source": [
    "# LAB1: Clustering Task\n",
    "### Vårt företag säljer allt ifrån kött, till fisk, till smycken och har både fysiska affärer och en online-shop. Vi har fått i uppdrag av vårt företag att segmentera våra kunder för att bättre nå ut med träffsäkra erbjudanden till vår kunder. Vi ska därför använda clustringstekniker.\n",
    "\n",
    "## Data Explanation\n",
    "### General\n",
    "- ID: Kundens unika ID\n",
    "- Year_Birth: Kundens födelseår\n",
    "- Education: Kundens utbildningsnivå\n",
    "- Marital_Status: Kundens civilstånd\n",
    "- Income: Kundens hushålls årliga inkomst\n",
    "- Kidhome: Antal barn i kundens hushåll\n",
    "- Teenhome: Antal tonåringar i kundens hushåll\n",
    "- Dt_Customer: Datum för kundens inskrivning i vårt företags kundsystem\n",
    "- Recency: Antal dagar sedan kundens senaste köp\n",
    "- Complain: 1, om kunden har klagat inom de senaste 2 åren, annars 0\n",
    "\n",
    "### Products\n",
    "- MntWines: Summa spenderat på vin de senaste 2 åren.\n",
    "- MntFruits: Summa spenderat på frukt de senaste 2 åren.\n",
    "- MntMeatProducts: Summa spenderat på kött de senaste 2 åren.\n",
    "- MntFishProducts: Summa spenderat på fisk de senaste 2 åren.\n",
    "- MntSweetProducts: Summa spenderat på godis de senaste 2 åren.\n",
    "- MntGoldProds: Summa spenderat på guld de senaste 2 åren.\n",
    "\n",
    "### Promotion\n",
    "- NumDealsPurchases: Antal genomförda köp som kunden gjort med en rabattkod.\n",
    "- AcceptedCmp1: 1, om kunden accepterade erbjudande i vår första kampanj, annars 0.\n",
    "- AcceptedCmp2: 1, om kunden accepterade erbjudande i vår andra kampanj, annars 0.\n",
    "- AcceptedCmp3: 1, om kunden accepterade erbjudande i vår tredje kampanj, annars 0.\n",
    "- AcceptedCmp4: 1, om kunden accepterade erbjudande i vår fjärde kampanj, annars 0.\n",
    "- AcceptedCmp5: 1, om kunden accepterade erbjudande i vår femte kampanj, annars 0.\n",
    "- Response: 1, om kunden accepterade erbjudande i vår senaste kampanj, annars 0.\n",
    "\n",
    "### Place\n",
    "- NumWebPurchases: Antal köp kunden genomfört genom företagets hemsida.\n",
    "- NumCatalogPurchases: Antal köp kunden genomfört genom företagets katalog.\n",
    "- NumStorePurchases: Antal köp kunden genomfört hos företagets affär.\n",
    "- NumWebVisitsMonth: Antal besök kunden genomfört på företagets hemsida den senaste månaden.\n",
    "\n",
    "\n",
    "## What to do?\n",
    "### 1. Data cleaning:\n",
    "- .csv-filen är väldigt ostrukturerad. Kolumnerna behöver definieras.\n",
    "- Varje kolumns dtype behöver definieras:\n",
    "    - Många av kolumnerna bör vara int\n",
    "    - Några av kolumnerna bör vara koverteras från kategoriska till int.\n",
    "    - Vi har en datum-kolumn. Behöver vi denna?\n",
    "- Vilka kolumner kan vi ta bort?\n",
    "\n",
    "### 2. Normalisation:\n",
    "- Normalisera vår data med lämplig metod.\n",
    "\n",
    "### 3. Dimensionsreduktion\n",
    "- Använd PCA för att begränsa antalet kolumner i vårt dataset.\n",
    "\n",
    "### 4. Clustering\n",
    "- Använd en lämplig clustering-metod för att segmentera vårt dataset i grupper.\n",
    "\n",
    "### 5. Visualisera cluster\n",
    "- Använd matplotlib.pyplot för att visualiser våra cluster.\n",
    "\n",
    "### 6. Performance measure\n",
    "- from sklearn.metrics import silhouette_score, calinski_harabasz_score, davies_bouldin_score\n",
    "- Använd Silhouette Score, Calinski Harabasz Score och Davies Bouldin Score för att sätta ett värde på hur bra clustering vi genomfört.\n",
    "- Baserat på dessa värden, optimera din clustering."
   ]
  },
  {
   "cell_type": "code",
   "execution_count": 1,
   "id": "4eb37d2c",
   "metadata": {},
   "outputs": [],
   "source": [
    "import pandas as pd\n",
    "df = pd.read_csv('Clustering_CustomerSegmentation.csv')"
   ]
  }
 ],
 "metadata": {
  "kernelspec": {
   "display_name": "Python 3 (ipykernel)",
   "language": "python",
   "name": "python3"
  },
  "language_info": {
   "codemirror_mode": {
    "name": "ipython",
    "version": 3
   },
   "file_extension": ".py",
   "mimetype": "text/x-python",
   "name": "python",
   "nbconvert_exporter": "python",
   "pygments_lexer": "ipython3",
   "version": "3.8.11"
  }
 },
 "nbformat": 4,
 "nbformat_minor": 5
}
